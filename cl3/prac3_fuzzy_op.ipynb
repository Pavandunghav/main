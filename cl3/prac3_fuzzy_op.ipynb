{
 "cells": [
  {
   "cell_type": "code",
   "execution_count": 67,
   "id": "0ca4ed1e",
   "metadata": {},
   "outputs": [],
   "source": [
    "###\n",
    "\n",
    "# union \n",
    "# intersection\n",
    "# difference\n",
    "# complement"
   ]
  },
  {
   "cell_type": "code",
   "execution_count": 68,
   "id": "cddd105a",
   "metadata": {},
   "outputs": [],
   "source": [
    "##\n",
    "import numpy as np \n"
   ]
  },
  {
   "cell_type": "code",
   "execution_count": 69,
   "id": "68dbfc0d",
   "metadata": {},
   "outputs": [],
   "source": [
    "  \n",
    "A = {'cold': 0.2, 'warm': 0.7, 'hot': 0.9}\n",
    "B = {'cold': 0.4, 'warm': 0.5, 'hot': 0.6}\n"
   ]
  },
  {
   "cell_type": "code",
   "execution_count": 70,
   "id": "eaa5f030",
   "metadata": {},
   "outputs": [
    {
     "name": "stdout",
     "output_type": "stream",
     "text": [
      "Union (A ∪ B): {'cold': 0.4, 'warm': 0.7, 'hot': 0.9}\n"
     ]
    }
   ],
   "source": [
    "def union_op(A, B):\n",
    "    # Fuzzy Union (OR)\n",
    "    union = {key: max(A[key], B[key]) for key in A}\n",
    "    print(\"Union (A ∪ B):\", union)\n",
    "    \n",
    "  \n",
    "\n",
    "union_op(A, B)"
   ]
  },
  {
   "cell_type": "code",
   "execution_count": 71,
   "id": "9c8e783e",
   "metadata": {},
   "outputs": [
    {
     "name": "stdout",
     "output_type": "stream",
     "text": [
      "Intersection (A ∩ B): {'cold': 0.2, 'warm': 0.5, 'hot': 0.6}\n"
     ]
    }
   ],
   "source": [
    "def intersect_op(A,B):\n",
    "    \n",
    "    \n",
    "    intersection={key: min(A[key],B[key]) for key in A}\n",
    "    \n",
    "    print(\"Intersection (A ∩ B):\", intersection)\n",
    "    \n",
    "    \n",
    "intersect_op(A,B)"
   ]
  },
  {
   "cell_type": "code",
   "execution_count": 72,
   "id": "e1868b1c",
   "metadata": {},
   "outputs": [
    {
     "name": "stdout",
     "output_type": "stream",
     "text": [
      "Complement (¬A): {'cold': 0.8, 'warm': 0.30000000000000004, 'hot': 0.09999999999999998}\n"
     ]
    }
   ],
   "source": [
    "def complement_op(A):\n",
    "    # Fuzzy Complement (NOT)\n",
    "    complement = {key: 1 - A[key] for key in A}\n",
    "    print(\"Complement (¬A):\", complement)\n",
    "    \n",
    "    \n",
    "complement_op(A)"
   ]
  },
  {
   "cell_type": "code",
   "execution_count": 73,
   "id": "20b980d4",
   "metadata": {},
   "outputs": [
    {
     "name": "stdout",
     "output_type": "stream",
     "text": [
      "Difference (A - B): {'cold': 0, 'warm': 0.19999999999999996, 'hot': 0.30000000000000004}\n"
     ]
    }
   ],
   "source": [
    "def diff_op(A,B):\n",
    "    # Fuzzy Difference (A - B)\n",
    "    difference = {key: max(0, A[key] - B[key]) for key in A}\n",
    "    print(\"Difference (A - B):\", difference)\n",
    "    \n",
    "diff_op(A,B)"
   ]
  },
  {
   "cell_type": "code",
   "execution_count": null,
   "id": "28410a9c",
   "metadata": {},
   "outputs": [],
   "source": []
  },
  {
   "cell_type": "code",
   "execution_count": null,
   "id": "5c4dba74",
   "metadata": {},
   "outputs": [],
   "source": []
  },
  {
   "cell_type": "code",
   "execution_count": null,
   "id": "10c66fa0",
   "metadata": {},
   "outputs": [],
   "source": []
  },
  {
   "cell_type": "code",
   "execution_count": null,
   "id": "0f0f2d86",
   "metadata": {},
   "outputs": [],
   "source": []
  }
 ],
 "metadata": {
  "kernelspec": {
   "display_name": "base",
   "language": "python",
   "name": "python3"
  },
  "language_info": {
   "codemirror_mode": {
    "name": "ipython",
    "version": 3
   },
   "file_extension": ".py",
   "mimetype": "text/x-python",
   "name": "python",
   "nbconvert_exporter": "python",
   "pygments_lexer": "ipython3",
   "version": "3.11.5"
  }
 },
 "nbformat": 4,
 "nbformat_minor": 5
}
